{
 "cells": [
  {
   "cell_type": "code",
   "execution_count": 1,
   "id": "bd46863d",
   "metadata": {},
   "outputs": [],
   "source": [
    "import tensorflow as tf "
   ]
  },
  {
   "cell_type": "code",
   "execution_count": 2,
   "id": "ec605208",
   "metadata": {},
   "outputs": [],
   "source": [
    "from tensorflow.keras.datasets import mnist \n",
    "(X_train , y_train) , (X_test, y_test) = mnist.load_data()"
   ]
  },
  {
   "cell_type": "code",
   "execution_count": 3,
   "id": "52365cda",
   "metadata": {},
   "outputs": [
    {
     "data": {
      "image/png": "[encoded data removed]",
      "text/plain": [
       "<Figure size 432x288 with 1 Axes>"
      ]
     },
     "metadata": {
      "needs_background": "light"
     },
     "output_type": "display_data"
    }
   ],
   "source": [
    "import matplotlib.pyplot as plt \n",
    "%matplotlib inline \n",
    "plt.imshow(X_train[0], cmap='binary')\n",
    "plt.show()"
   ]
  },
  {
   "cell_type": "code",
   "execution_count": 4,
   "id": "08ffe942",
   "metadata": {},
   "outputs": [],
   "source": [
    "#change the way the label is represented\n",
    "y_train_encoded = tf.keras.utils.to_categorical(y_train)\n",
    "y_test_encoded = tf.keras.utils.to_categorical(y_test)"
   ]
  },
  {
   "cell_type": "code",
   "execution_count": 5,
   "id": "5425398e",
   "metadata": {},
   "outputs": [
    {
     "data": {
      "text/plain": [
       "(60000, 28, 28)"
      ]
     },
     "execution_count": 5,
     "metadata": {},
     "output_type": "execute_result"
    }
   ],
   "source": [
    "#test to see if the encoding worked\n",
    "X_train.shape"
   ]
  },
  {
   "cell_type": "code",
   "execution_count": 6,
   "id": "3e633dac",
   "metadata": {},
   "outputs": [
    {
     "data": {
      "text/plain": [
       "(10000, 28, 28)"
      ]
     },
     "execution_count": 6,
     "metadata": {},
     "output_type": "execute_result"
    }
   ],
   "source": [
    "X_test.shape"
   ]
  },
  {
   "cell_type": "code",
   "execution_count": 7,
   "id": "d8a6ff0b",
   "metadata": {},
   "outputs": [],
   "source": [
    "#convert the samples from (28*28) arrays to (784,1)vectors\n",
    "import numpy as np \n",
    "x_train_reshp=np.reshape(X_train, (60000,784))\n",
    "x_test_reshp=np.reshape(X_test, (10000,784))"
   ]
  },
  {
   "cell_type": "code",
   "execution_count": 8,
   "id": "5d3c4102",
   "metadata": {},
   "outputs": [
    {
     "name": "stdout",
     "output_type": "stream",
     "text": [
      "{0, 1, 2, 3, 9, 11, 14, 16, 18, 23, 24, 25, 26, 27, 30, 35, 36, 39, 43, 45, 46, 49, 55, 56, 64, 66, 70, 78, 80, 81, 82, 90, 93, 94, 107, 108, 114, 119, 126, 127, 130, 132, 133, 135, 136, 139, 148, 150, 154, 156, 160, 166, 170, 171, 172, 175, 182, 183, 186, 187, 190, 195, 198, 201, 205, 207, 212, 213, 219, 221, 225, 226, 229, 238, 240, 241, 242, 244, 247, 249, 250, 251, 252, 253, 255}\n"
     ]
    }
   ],
   "source": [
    "print(set(x_train_reshp[0]))"
   ]
  },
  {
   "cell_type": "code",
   "execution_count": 9,
   "id": "4e77ee12",
   "metadata": {},
   "outputs": [],
   "source": [
    "from sklearn import preprocessing"
   ]
  },
  {
   "cell_type": "code",
   "execution_count": 10,
   "id": "097d0b59",
   "metadata": {},
   "outputs": [],
   "source": [
    "scaler = preprocessing.MinMaxScaler()"
   ]
  },
  {
   "cell_type": "code",
   "execution_count": 11,
   "id": "3b2491a1",
   "metadata": {},
   "outputs": [],
   "source": [
    "# Normalize the data\n",
    "x_train_norm = scaler.fit_transform(x_train_reshp)\n",
    "x_test_norm = scaler.fit_transform(x_test_reshp)"
   ]
  },
  {
   "cell_type": "code",
   "execution_count": 12,
   "id": "16c72f85",
   "metadata": {},
   "outputs": [
    {
     "name": "stdout",
     "output_type": "stream",
     "text": [
      "{0.0, 0.49411764705882355, 0.6862745098039216, 1.0, 0.4980392156862745, 0.9921568627450981, 0.06274509803921569, 0.580392156862745, 0.5098039215686274, 0.611764705882353, 0.00392156862745098, 0.21568627450980393, 0.07058823529411765, 0.25098039215686274, 0.00784313725490196, 0.2588235294117647, 0.32156862745098036, 0.3137254901960784, 0.3058823529411765, 0.011764705882352941, 0.3686274509803922, 0.44705882352941173, 0.1411764705882353, 0.13725490196078433, 0.5176470588235293, 0.5215686274509804, 0.5294117647058824, 0.6274509803921569, 0.6705882352941176, 0.6745098039215687, 0.7333333333333333, 0.7176470588235294, 0.7450980392156863, 0.788235294117647, 0.8313725490196078, 0.8588235294117647, 0.8352941176470589, 0.09019607843137255, 0.8862745098039215, 0.8980392156862745, 0.9490196078431372, 0.9333333333333333, 0.9411764705882353, 0.9568627450980391, 0.9764705882352941, 0.984313725490196, 0.5333333333333333, 0.6509803921568628, 0.9686274509803922, 0.6666666666666666, 0.5450980392156862, 0.6039215686274509, 0.4666666666666667, 0.5882352941176471, 0.09411764705882353, 0.15294117647058825, 0.9882352941176471, 0.09803921568627451, 0.03529411764705882, 0.19215686274509802, 0.2196078431372549, 0.10196078431372549, 0.27450980392156865, 0.3176470588235294, 0.3529411764705882, 0.043137254901960784, 0.10588235294117647, 0.16862745098039217, 0.1764705882352941, 0.36470588235294116, 0.4196078431372549, 0.4235294117647059, 0.7137254901960784, 0.7294117647058823, 0.11764705882352941, 0.7647058823529411, 0.054901960784313725, 0.1803921568627451, 0.7764705882352941, 0.803921568627451, 0.8117647058823529, 0.8823529411764706, 0.8666666666666667, 0.9450980392156862, 0.9803921568627451}\n"
     ]
    }
   ],
   "source": [
    "print(set(x_train_norm[0]))"
   ]
  },
  {
   "cell_type": "markdown",
   "id": "3ec1a490",
   "metadata": {},
   "source": [
    "# the model "
   ]
  },
  {
   "cell_type": "code",
   "execution_count": 13,
   "id": "4bc38945",
   "metadata": {},
   "outputs": [],
   "source": [
    "from tensorflow.keras.models import Sequential\n",
    "from tensorflow.keras.layers import Dense\n",
    "from tensorflow.keras.layers import Dropout\n",
    "from tensorflow.keras.optimizers import Adam\n",
    "\n",
    "optimizer = Adam(learning_rate=0.001, beta_1 = 0.9, beta_2 = 0.999, epsilon = 1e-07, amsgrad = False)\n",
    "model = Sequential([\n",
    "    Dense(250, activation = 'relu', input_shape = (784,)),\n",
    "    Dense(500, activation = 'relu'),\n",
    "    Dropout(0.1),\n",
    "    Dense(500, activation = 'relu'),\n",
    "    Dropout(0.1),\n",
    "    Dense(250, activation = 'relu'),\n",
    "    Dropout(0.1),\n",
    "    Dense(10, activation = 'softmax')\n",
    "])"
   ]
  },
  {
   "cell_type": "markdown",
   "id": "5eb12ef0",
   "metadata": {},
   "source": [
    "# Adam"
   ]
  },
  {
   "cell_type": "code",
   "execution_count": 14,
   "id": "575057b7",
   "metadata": {},
   "outputs": [
    {
     "name": "stdout",
     "output_type": "stream",
     "text": [
      "Model: \"sequential\"\n",
      "_________________________________________________________________\n",
      "Layer (type)                 Output Shape              Param #   \n",
      "=================================================================\n",
      "dense (Dense)                (None, 250)               196250    \n",
      "_________________________________________________________________\n",
      "dense_1 (Dense)              (None, 500)               125500    \n",
      "_________________________________________________________________\n",
      "dropout (Dropout)            (None, 500)               0         \n",
      "_________________________________________________________________\n",
      "dense_2 (Dense)              (None, 500)               250500    \n",
      "_________________________________________________________________\n",
      "dropout_1 (Dropout)          (None, 500)               0         \n",
      "_________________________________________________________________\n",
      "dense_3 (Dense)              (None, 250)               125250    \n",
      "_________________________________________________________________\n",
      "dropout_2 (Dropout)          (None, 250)               0         \n",
      "_________________________________________________________________\n",
      "dense_4 (Dense)              (None, 10)                2510      \n",
      "=================================================================\n",
      "Total params: 700,010\n",
      "Trainable params: 700,010\n",
      "Non-trainable params: 0\n",
      "_________________________________________________________________\n"
     ]
    }
   ],
   "source": [
    "model.compile(\n",
    "    optimizer = 'adam',\n",
    "    loss = 'categorical_crossentropy',\n",
    "    metrics = ['accuracy']\n",
    ")\n",
    "\n",
    "model.summary()"
   ]
  },
  {
   "cell_type": "code",
   "execution_count": 15,
   "id": "a40e80ed",
   "metadata": {},
   "outputs": [
    {
     "name": "stdout",
     "output_type": "stream",
     "text": [
      "Epoch 1/7\n",
      "1875/1875 [==============================] - 12s 6ms/step - loss: 0.0190 - accuracy: 0.8682\n",
      "Epoch 2/7\n",
      "1875/1875 [==============================] - 12s 6ms/step - loss: 0.0068 - accuracy: 0.9570\n",
      "Epoch 3/7\n",
      "1875/1875 [==============================] - 12s 6ms/step - loss: 0.0054 - accuracy: 0.9667\n",
      "Epoch 4/7\n",
      "1875/1875 [==============================] - 12s 6ms/step - loss: 0.0044 - accuracy: 0.9725\n",
      "Epoch 5/7\n",
      "1875/1875 [==============================] - 12s 7ms/step - loss: 0.0044 - accuracy: 0.9744\n",
      "Epoch 6/7\n",
      "1875/1875 [==============================] - 12s 6ms/step - loss: 0.0038 - accuracy: 0.9771\n",
      "Epoch 7/7\n",
      "1875/1875 [==============================] - 12s 6ms/step - loss: 0.0036 - accuracy: 0.9791\n"
     ]
    }
   ],
   "source": [
    "h = model.fit(\n",
    "    x_train_norm,\n",
    "    y_train_encoded,\n",
    "    epochs = 7\n",
    ")"
   ]
  },
  {
   "cell_type": "code",
   "execution_count": 16,
   "id": "7381f705",
   "metadata": {},
   "outputs": [
    {
     "name": "stdout",
     "output_type": "stream",
     "text": [
      "313/313 [==============================] - 1s 3ms/step - loss: 0.0053 - accuracy: 0.9692\n",
      "test set accuracy:  96.92000150680542\n"
     ]
    }
   ],
   "source": [
    "loss, accuracy = model.evaluate(x_test_norm, y_test_encoded)\n",
    "\n",
    "print('test set accuracy: ', accuracy * 100)"
   ]
  },
  {
   "cell_type": "code",
   "execution_count": 17,
   "id": "638015f1",
   "metadata": {},
   "outputs": [
    {
     "name": "stdout",
     "output_type": "stream",
     "text": [
      "shape of preds:  (10000, 10)\n"
     ]
    }
   ],
   "source": [
    "preds = model.predict(x_test_norm)\n",
    "print('shape of preds: ', preds.shape)"
   ]
  },
  {
   "cell_type": "code",
   "execution_count": 18,
   "id": "c4ccaa7e",
   "metadata": {},
   "outputs": [
    {
     "data": {
      "image/png": "[encoded data removed]",
      "text/plain": [
       "<Figure size 864x864 with 9 Axes>"
      ]
     },
     "metadata": {},
     "output_type": "display_data"
    }
   ],
   "source": [
    "plt.figure(figsize = (12, 12))\n",
    "\n",
    "start_index = 0\n",
    "\n",
    "for i in range(9):\n",
    "    plt.subplot(3, 3, i + 1)\n",
    "    plt.grid(False)\n",
    "    plt.xticks([])\n",
    "    plt.yticks([])\n",
    "    pred = np.argmax(preds[start_index + i])\n",
    "    actual = np.argmax(y_test_encoded[start_index + i])\n",
    "    col = 'g'\n",
    "    if pred != actual:\n",
    "        col = 'r'\n",
    "    plt.xlabel('i={} | pred={} | true={}'.format(start_index + i, pred, actual), color = col)\n",
    "    plt.imshow(X_test[start_index + i], cmap='binary')\n",
    "plt.show()"
   ]
  },
  {
   "cell_type": "markdown",
   "id": "89e8721b",
   "metadata": {},
   "source": [
    "# SGD"
   ]
  },
  {
   "cell_type": "code",
   "execution_count": 36,
   "id": "fd670663",
   "metadata": {},
   "outputs": [],
   "source": [
    "model2 = Sequential([\n",
    "    Dense(250, activation = 'relu', input_shape = (784,)),\n",
    "    Dense(500, activation = 'relu'),\n",
    "    Dropout(0.1),\n",
    "    Dense(500, activation = 'relu'),\n",
    "    Dropout(0.1),\n",
    "    Dense(250, activation = 'relu'),\n",
    "    Dropout(0.1),\n",
    "    Dense(10, activation = 'softmax')\n",
    "])"
   ]
  },
  {
   "cell_type": "code",
   "execution_count": 37,
   "id": "e3923c9d",
   "metadata": {},
   "outputs": [
    {
     "name": "stdout",
     "output_type": "stream",
     "text": [
      "Model: \"sequential_1\"\n",
      "_________________________________________________________________\n",
      "Layer (type)                 Output Shape              Param #   \n",
      "=================================================================\n",
      "dense_5 (Dense)              (None, 250)               196250    \n",
      "_________________________________________________________________\n",
      "dense_6 (Dense)              (None, 500)               125500    \n",
      "_________________________________________________________________\n",
      "dropout_3 (Dropout)          (None, 500)               0         \n",
      "_________________________________________________________________\n",
      "dense_7 (Dense)              (None, 500)               250500    \n",
      "_________________________________________________________________\n",
      "dropout_4 (Dropout)          (None, 500)               0         \n",
      "_________________________________________________________________\n",
      "dense_8 (Dense)              (None, 250)               125250    \n",
      "_________________________________________________________________\n",
      "dropout_5 (Dropout)          (None, 250)               0         \n",
      "_________________________________________________________________\n",
      "dense_9 (Dense)              (None, 10)                2510      \n",
      "=================================================================\n",
      "Total params: 700,010\n",
      "Trainable params: 700,010\n",
      "Non-trainable params: 0\n",
      "_________________________________________________________________\n"
     ]
    }
   ],
   "source": [
    "model2.compile(\n",
    "    optimizer = 'sgd',\n",
    "    loss = 'categorical_crossentropy',\n",
    "    metrics = ['accuracy']\n",
    ")\n",
    "\n",
    "model.summary()"
   ]
  },
  {
   "cell_type": "code",
   "execution_count": 38,
   "id": "f2234292",
   "metadata": {},
   "outputs": [
    {
     "name": "stdout",
     "output_type": "stream",
     "text": [
      "Epoch 1/7\n",
      "1875/1875 [==============================] - 7s 4ms/step - loss: 0.0901 - accuracy: 0.1457\n",
      "Epoch 2/7\n",
      "1875/1875 [==============================] - 7s 4ms/step - loss: 0.0884 - accuracy: 0.3137\n",
      "Epoch 3/7\n",
      "1875/1875 [==============================] - 8s 4ms/step - loss: 0.0858 - accuracy: 0.4327\n",
      "Epoch 4/7\n",
      "1875/1875 [==============================] - 7s 4ms/step - loss: 0.0796 - accuracy: 0.4510\n",
      "Epoch 5/7\n",
      "1875/1875 [==============================] - 7s 4ms/step - loss: 0.0661 - accuracy: 0.5414\n",
      "Epoch 6/7\n",
      "1875/1875 [==============================] - 6s 3ms/step - loss: 0.0512 - accuracy: 0.6746\n",
      "Epoch 7/7\n",
      "1875/1875 [==============================] - 7s 4ms/step - loss: 0.0379 - accuracy: 0.7742\n"
     ]
    }
   ],
   "source": [
    "h = model2.fit(\n",
    "    x_train_norm,\n",
    "    y_train_encoded,\n",
    "    epochs = 7\n",
    ")"
   ]
  },
  {
   "cell_type": "code",
   "execution_count": 40,
   "id": "8ca9b1ee",
   "metadata": {},
   "outputs": [
    {
     "name": "stdout",
     "output_type": "stream",
     "text": [
      "313/313 [==============================] - 1s 2ms/step - loss: 0.0262 - accuracy: 0.8557\n",
      "test set accuracy:  85.57000160217285\n"
     ]
    }
   ],
   "source": [
    "loss, accuracy = model2.evaluate(x_test_norm, y_test_encoded)\n",
    "\n",
    "print('test set accuracy: ', accuracy * 100)"
   ]
  },
  {
   "cell_type": "markdown",
   "id": "d51bb055",
   "metadata": {},
   "source": [
    "# RMSprop"
   ]
  },
  {
   "cell_type": "code",
   "execution_count": 25,
   "id": "7bf90581",
   "metadata": {},
   "outputs": [],
   "source": [
    "from tensorflow.keras.models import Sequential\n",
    "from tensorflow.keras.layers import Dense\n",
    "from tensorflow.keras.layers import Dropout\n",
    "\n",
    "\n",
    "model3 = Sequential([\n",
    "    Dense(250, activation = 'relu', input_shape = (784,)),\n",
    "    Dense(500, activation = 'relu'),\n",
    "    Dropout(0.1),\n",
    "    Dense(500, activation = 'relu'),\n",
    "    Dropout(0.1),\n",
    "    Dense(250, activation = 'relu'),\n",
    "    Dropout(0.1),\n",
    "    Dense(10, activation = 'softmax')\n",
    "])"
   ]
  },
  {
   "cell_type": "code",
   "execution_count": 26,
   "id": "3633e326",
   "metadata": {},
   "outputs": [
    {
     "name": "stdout",
     "output_type": "stream",
     "text": [
      "Model: \"sequential_1\"\n",
      "_________________________________________________________________\n",
      "Layer (type)                 Output Shape              Param #   \n",
      "=================================================================\n",
      "dense_5 (Dense)              (None, 250)               196250    \n",
      "_________________________________________________________________\n",
      "dense_6 (Dense)              (None, 500)               125500    \n",
      "_________________________________________________________________\n",
      "dropout_3 (Dropout)          (None, 500)               0         \n",
      "_________________________________________________________________\n",
      "dense_7 (Dense)              (None, 500)               250500    \n",
      "_________________________________________________________________\n",
      "dropout_4 (Dropout)          (None, 500)               0         \n",
      "_________________________________________________________________\n",
      "dense_8 (Dense)              (None, 250)               125250    \n",
      "_________________________________________________________________\n",
      "dropout_5 (Dropout)          (None, 250)               0         \n",
      "_________________________________________________________________\n",
      "dense_9 (Dense)              (None, 10)                2510      \n",
      "=================================================================\n",
      "Total params: 700,010\n",
      "Trainable params: 700,010\n",
      "Non-trainable params: 0\n",
      "_________________________________________________________________\n"
     ]
    }
   ],
   "source": [
    "model3.compile(\n",
    "    optimizer = 'rmsprop',\n",
    "    loss = 'categorical_crossentropy',\n",
    "    metrics = ['accuracy']\n",
    ")\n",
    "\n",
    "model.summary()"
   ]
  },
  {
   "cell_type": "code",
   "execution_count": 27,
   "id": "77024dad",
   "metadata": {},
   "outputs": [
    {
     "name": "stdout",
     "output_type": "stream",
     "text": [
      "Epoch 1/7\n",
      "1875/1875 [==============================] - 12s 6ms/step - loss: 0.0200 - accuracy: 0.8573\n",
      "Epoch 2/7\n",
      "1875/1875 [==============================] - 11s 6ms/step - loss: 0.0072 - accuracy: 0.9555\n",
      "Epoch 3/7\n",
      "1875/1875 [==============================] - 11s 6ms/step - loss: 0.0056 - accuracy: 0.9659\n",
      "Epoch 4/7\n",
      "1875/1875 [==============================] - 11s 6ms/step - loss: 0.0049 - accuracy: 0.9709\n",
      "Epoch 5/7\n",
      "1875/1875 [==============================] - 11s 6ms/step - loss: 0.0046 - accuracy: 0.9737\n",
      "Epoch 6/7\n",
      "1875/1875 [==============================] - 11s 6ms/step - loss: 0.0041 - accuracy: 0.9763\n",
      "Epoch 7/7\n",
      "1875/1875 [==============================] - 11s 6ms/step - loss: 0.0039 - accuracy: 0.9782\n"
     ]
    }
   ],
   "source": [
    "h = model3.fit(\n",
    "    x_train_norm,\n",
    "    y_train_encoded,\n",
    "    epochs = 7\n",
    ")"
   ]
  },
  {
   "cell_type": "code",
   "execution_count": 30,
   "id": "56d5b084",
   "metadata": {},
   "outputs": [
    {
     "name": "stdout",
     "output_type": "stream",
     "text": [
      "313/313 [==============================] - 1s 2ms/step - loss: 0.0058 - accuracy: 0.9674\n",
      "test set accuracy:  96.74000144004822\n"
     ]
    }
   ],
   "source": [
    "loss, accuracy = model3.evaluate(x_test_norm, y_test_encoded)\n",
    "\n",
    "print('test set accuracy: ', accuracy * 100)"
   ]
  },
  {
   "cell_type": "markdown",
   "id": "e8705ada",
   "metadata": {},
   "source": [
    "# ADAgrad\n"
   ]
  },
  {
   "cell_type": "code",
   "execution_count": 31,
   "id": "3b117e52",
   "metadata": {},
   "outputs": [],
   "source": [
    "model4 = Sequential([\n",
    "    Dense(250, activation = 'relu', input_shape = (784,)),\n",
    "    Dense(500, activation = 'relu'),\n",
    "    Dropout(0.1),\n",
    "    Dense(500, activation = 'relu'),\n",
    "    Dropout(0.1),\n",
    "    Dense(250, activation = 'relu'),\n",
    "    Dropout(0.1),\n",
    "    Dense(10, activation = 'softmax')\n",
    "])"
   ]
  },
  {
   "cell_type": "code",
   "execution_count": 32,
   "id": "2b340b85",
   "metadata": {},
   "outputs": [
    {
     "name": "stdout",
     "output_type": "stream",
     "text": [
      "Model: \"sequential_1\"\n",
      "_________________________________________________________________\n",
      "Layer (type)                 Output Shape              Param #   \n",
      "=================================================================\n",
      "dense_5 (Dense)              (None, 250)               196250    \n",
      "_________________________________________________________________\n",
      "dense_6 (Dense)              (None, 500)               125500    \n",
      "_________________________________________________________________\n",
      "dropout_3 (Dropout)          (None, 500)               0         \n",
      "_________________________________________________________________\n",
      "dense_7 (Dense)              (None, 500)               250500    \n",
      "_________________________________________________________________\n",
      "dropout_4 (Dropout)          (None, 500)               0         \n",
      "_________________________________________________________________\n",
      "dense_8 (Dense)              (None, 250)               125250    \n",
      "_________________________________________________________________\n",
      "dropout_5 (Dropout)          (None, 250)               0         \n",
      "_________________________________________________________________\n",
      "dense_9 (Dense)              (None, 10)                2510      \n",
      "=================================================================\n",
      "Total params: 700,010\n",
      "Trainable params: 700,010\n",
      "Non-trainable params: 0\n",
      "_________________________________________________________________\n"
     ]
    }
   ],
   "source": [
    "model4.compile(\n",
    "    optimizer = 'adagrad',\n",
    "    loss = 'categorical_crossentropy',\n",
    "    metrics = ['accuracy']\n",
    ")\n",
    "\n",
    "model.summary()"
   ]
  },
  {
   "cell_type": "code",
   "execution_count": 33,
   "id": "a43d9030",
   "metadata": {},
   "outputs": [
    {
     "name": "stdout",
     "output_type": "stream",
     "text": [
      "Epoch 1/7\n",
      "1875/1875 [==============================] - 8s 4ms/step - loss: 0.0902 - accuracy: 0.1001\n",
      "Epoch 2/7\n",
      "1875/1875 [==============================] - 8s 5ms/step - loss: 0.0898 - accuracy: 0.1298\n",
      "Epoch 3/7\n",
      "1875/1875 [==============================] - 8s 4ms/step - loss: 0.0894 - accuracy: 0.1758\n",
      "Epoch 4/7\n",
      "1875/1875 [==============================] - 8s 4ms/step - loss: 0.0890 - accuracy: 0.2230\n",
      "Epoch 5/7\n",
      "1875/1875 [==============================] - 7s 4ms/step - loss: 0.0885 - accuracy: 0.2612\n",
      "Epoch 6/7\n",
      "1875/1875 [==============================] - 7s 4ms/step - loss: 0.0880 - accuracy: 0.2825\n",
      "Epoch 7/7\n",
      "1875/1875 [==============================] - 7s 4ms/step - loss: 0.0873 - accuracy: 0.2960\n"
     ]
    }
   ],
   "source": [
    "h = model4.fit(\n",
    "    x_train_norm,\n",
    "    y_train_encoded,\n",
    "    epochs = 7\n",
    ")"
   ]
  },
  {
   "cell_type": "code",
   "execution_count": 35,
   "id": "6bdf598b",
   "metadata": {},
   "outputs": [
    {
     "name": "stdout",
     "output_type": "stream",
     "text": [
      "313/313 [==============================] - 1s 2ms/step - loss: 0.0864 - accuracy: 0.3157\n",
      "test set accuracy:  31.56999945640564\n"
     ]
    }
   ],
   "source": [
    "loss, accuracy = model4.evaluate(x_test_norm, y_test_encoded)\n",
    "\n",
    "print('test set accuracy: ', accuracy * 100)"
   ]
  },
  {
   "cell_type": "markdown",
   "id": "fe38370f",
   "metadata": {},
   "source": [
    "# ADAdelta"
   ]
  },
  {
   "cell_type": "code",
   "execution_count": 41,
   "id": "6c8856ef",
   "metadata": {},
   "outputs": [],
   "source": [
    "model5 = Sequential([\n",
    "    Dense(250, activation = 'relu', input_shape = (784,)),\n",
    "    Dense(500, activation = 'relu'),\n",
    "    Dropout(0.1),\n",
    "    Dense(500, activation = 'relu'),\n",
    "    Dropout(0.1),\n",
    "    Dense(250, activation = 'relu'),\n",
    "    Dropout(0.1),\n",
    "    Dense(10, activation = 'softmax')\n",
    "])"
   ]
  },
  {
   "cell_type": "code",
   "execution_count": 42,
   "id": "955310f3",
   "metadata": {},
   "outputs": [
    {
     "name": "stdout",
     "output_type": "stream",
     "text": [
      "Model: \"sequential_1\"\n",
      "_________________________________________________________________\n",
      "Layer (type)                 Output Shape              Param #   \n",
      "=================================================================\n",
      "dense_5 (Dense)              (None, 250)               196250    \n",
      "_________________________________________________________________\n",
      "dense_6 (Dense)              (None, 500)               125500    \n",
      "_________________________________________________________________\n",
      "dropout_3 (Dropout)          (None, 500)               0         \n",
      "_________________________________________________________________\n",
      "dense_7 (Dense)              (None, 500)               250500    \n",
      "_________________________________________________________________\n",
      "dropout_4 (Dropout)          (None, 500)               0         \n",
      "_________________________________________________________________\n",
      "dense_8 (Dense)              (None, 250)               125250    \n",
      "_________________________________________________________________\n",
      "dropout_5 (Dropout)          (None, 250)               0         \n",
      "_________________________________________________________________\n",
      "dense_9 (Dense)              (None, 10)                2510      \n",
      "=================================================================\n",
      "Total params: 700,010\n",
      "Trainable params: 700,010\n",
      "Non-trainable params: 0\n",
      "_________________________________________________________________\n"
     ]
    }
   ],
   "source": [
    "model5.compile(\n",
    "    optimizer = 'adadelta',\n",
    "    loss = 'categorical_crossentropy',\n",
    "    metrics = ['accuracy']\n",
    ")\n",
    "\n",
    "model.summary()"
   ]
  },
  {
   "cell_type": "code",
   "execution_count": 43,
   "id": "783eee20",
   "metadata": {},
   "outputs": [
    {
     "name": "stdout",
     "output_type": "stream",
     "text": [
      "Epoch 1/7\n",
      "1875/1875 [==============================] - 11s 5ms/step - loss: 0.0900 - accuracy: 0.1091\n",
      "Epoch 2/7\n",
      "1875/1875 [==============================] - 11s 6ms/step - loss: 0.0898 - accuracy: 0.1192\n",
      "Epoch 3/7\n",
      "1875/1875 [==============================] - 9s 5ms/step - loss: 0.0897 - accuracy: 0.1254\n",
      "Epoch 4/7\n",
      "1875/1875 [==============================] - 8s 5ms/step - loss: 0.0896 - accuracy: 0.1334\n",
      "Epoch 5/7\n",
      "1875/1875 [==============================] - 8s 4ms/step - loss: 0.0895 - accuracy: 0.1438\n",
      "Epoch 6/7\n",
      "1875/1875 [==============================] - 8s 4ms/step - loss: 0.0893 - accuracy: 0.1541\n",
      "Epoch 7/7\n",
      "1875/1875 [==============================] - 8s 4ms/step - loss: 0.0891 - accuracy: 0.1701\n"
     ]
    }
   ],
   "source": [
    "h = model5.fit(\n",
    "    x_train_norm,\n",
    "    y_train_encoded,\n",
    "    epochs = 7\n",
    ")"
   ]
  },
  {
   "cell_type": "code",
   "execution_count": 45,
   "id": "149c64f9",
   "metadata": {},
   "outputs": [
    {
     "name": "stdout",
     "output_type": "stream",
     "text": [
      "313/313 [==============================] - 1s 2ms/step - loss: 0.0888 - accuracy: 0.2219\n",
      "test set accuracy:  22.190000116825104\n"
     ]
    }
   ],
   "source": [
    "loss, accuracy = model5.evaluate(x_test_norm, y_test_encoded)\n",
    "\n",
    "print('test set accuracy: ', accuracy * 100)"
   ]
  },
  {
   "cell_type": "code",
   "execution_count": null,
   "id": "6c9faef4",
   "metadata": {},
   "outputs": [],
   "source": []
  }
 ],
 "metadata": {
  "kernelspec": {
   "display_name": "Python 3",
   "language": "python",
   "name": "python3"
  },
  "language_info": {
   "codemirror_mode": {
    "name": "ipython",
    "version": 3
   },
   "file_extension": ".py",
   "mimetype": "text/x-python",
   "name": "python",
   "nbconvert_exporter": "python",
   "pygments_lexer": "ipython3",
   "version": "3.8.8"
  }
 },
 "nbformat": 4,
 "nbformat_minor": 5
}

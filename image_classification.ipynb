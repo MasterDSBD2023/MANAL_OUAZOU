{
 "cells": [
  {
   "cell_type": "code",
   "execution_count": 1,
   "id": "bd46863d",
   "metadata": {},
   "outputs": [],
   "source": [
    "import tensorflow as tf "
   ]
  },
  {
   "cell_type": "code",
   "execution_count": 2,
   "id": "ec605208",
   "metadata": {},
   "outputs": [],
   "source": [
    "from tensorflow.keras.datasets import mnist \n",
    "(X_train , y_train) , (X_test, y_test) = mnist.load_data()"
   ]
  },
  {
   "cell_type": "code",
   "execution_count": 4,
   "id": "52365cda",
   "metadata": {},
   "outputs": [
    {
     "data": {
      "image/png": "[encoded data removed]",
      "text/plain": [
       "<Figure size 432x288 with 1 Axes>"
      ]
     },
     "metadata": {
      "needs_background": "light"
     },
     "output_type": "display_data"
    }
   ],
   "source": [
    "import matplotlib.pyplot as plt \n",
    "%matplotlib inline \n",
    "plt.imshow(X_train[0], cmap='binary')\n",
    "plt.show()"
   ]
  },
  {
   "cell_type": "code",
   "execution_count": 5,
   "id": "08ffe942",
   "metadata": {},
   "outputs": [],
   "source": [
    "#change the way the label is represented\n",
    "y_train_encoded = tf.keras.utils.to_categorical(y_train)\n",
    "y_test_encoded = tf.keras.utils.to_categorical(y_test)"
   ]
  },
  {
   "cell_type": "code",
   "execution_count": 6,
   "id": "5425398e",
   "metadata": {},
   "outputs": [
    {
     "data": {
      "text/plain": [
       "(60000, 28, 28)"
      ]
     },
     "execution_count": 6,
     "metadata": {},
     "output_type": "execute_result"
    }
   ],
   "source": [
    "#test to see if the encoding worked\n",
    "X_train.shape"
   ]
  },
  {
   "cell_type": "code",
   "execution_count": 7,
   "id": "3e633dac",
   "metadata": {},
   "outputs": [
    {
     "data": {
      "text/plain": [
       "(10000, 28, 28)"
      ]
     },
     "execution_count": 7,
     "metadata": {},
     "output_type": "execute_result"
    }
   ],
   "source": [
    "X_test.shape"
   ]
  },
  {
   "cell_type": "code",
   "execution_count": 9,
   "id": "d8a6ff0b",
   "metadata": {},
   "outputs": [],
   "source": [
    "#convert the samples from (28*28) arrays to (784,1)vectors\n",
    "import numpy as np \n",
    "x_train_reshp=np.reshape(X_train, (60000,784))\n",
    "x_test_reshp=np.reshape(X_test, (10000,784))"
   ]
  },
  {
   "cell_type": "code",
   "execution_count": 18,
   "id": "5d3c4102",
   "metadata": {},
   "outputs": [
    {
     "name": "stdout",
     "output_type": "stream",
     "text": [
      "{0, 1, 2, 3, 9, 11, 14, 16, 18, 23, 24, 25, 26, 27, 30, 35, 36, 39, 43, 45, 46, 49, 55, 56, 64, 66, 70, 78, 80, 81, 82, 90, 93, 94, 107, 108, 114, 119, 126, 127, 130, 132, 133, 135, 136, 139, 148, 150, 154, 156, 160, 166, 170, 171, 172, 175, 182, 183, 186, 187, 190, 195, 198, 201, 205, 207, 212, 213, 219, 221, 225, 226, 229, 238, 240, 241, 242, 244, 247, 249, 250, 251, 252, 253, 255}\n"
     ]
    }
   ],
   "source": [
    "print(set(x_train_reshp[0]))"
   ]
  },
  {
   "cell_type": "code",
   "execution_count": 10,
   "id": "4e77ee12",
   "metadata": {},
   "outputs": [],
   "source": [
    "from sklearn import preprocessing"
   ]
  },
  {
   "cell_type": "code",
   "execution_count": 12,
   "id": "097d0b59",
   "metadata": {},
   "outputs": [],
   "source": [
    "scaler = preprocessing.MinMaxScaler()"
   ]
  },
  {
   "cell_type": "code",
   "execution_count": 16,
   "id": "3b2491a1",
   "metadata": {},
   "outputs": [],
   "source": [
    "# Normalize the data\n",
    "x_train_norm = scaler.fit_transform(x_train_reshp)\n",
    "x_test_norm = scaler.fit_transform(x_test_reshp)"
   ]
  },
  {
   "cell_type": "code",
   "execution_count": 17,
   "id": "16c72f85",
   "metadata": {},
   "outputs": [
    {
     "name": "stdout",
     "output_type": "stream",
     "text": [
      "{0.0, 0.49411764705882355, 0.6862745098039216, 1.0, 0.4980392156862745, 0.9921568627450981, 0.06274509803921569, 0.580392156862745, 0.5098039215686274, 0.611764705882353, 0.00392156862745098, 0.21568627450980393, 0.07058823529411765, 0.25098039215686274, 0.00784313725490196, 0.2588235294117647, 0.32156862745098036, 0.3137254901960784, 0.3058823529411765, 0.011764705882352941, 0.3686274509803922, 0.44705882352941173, 0.1411764705882353, 0.13725490196078433, 0.5176470588235293, 0.5215686274509804, 0.5294117647058824, 0.6274509803921569, 0.6705882352941176, 0.6745098039215687, 0.7333333333333333, 0.7176470588235294, 0.7450980392156863, 0.788235294117647, 0.8313725490196078, 0.8588235294117647, 0.8352941176470589, 0.09019607843137255, 0.8862745098039215, 0.8980392156862745, 0.9490196078431372, 0.9333333333333333, 0.9411764705882353, 0.9568627450980391, 0.9764705882352941, 0.984313725490196, 0.5333333333333333, 0.6509803921568628, 0.9686274509803922, 0.6666666666666666, 0.5450980392156862, 0.6039215686274509, 0.4666666666666667, 0.5882352941176471, 0.09411764705882353, 0.15294117647058825, 0.9882352941176471, 0.09803921568627451, 0.03529411764705882, 0.19215686274509802, 0.2196078431372549, 0.10196078431372549, 0.27450980392156865, 0.3176470588235294, 0.3529411764705882, 0.043137254901960784, 0.10588235294117647, 0.16862745098039217, 0.1764705882352941, 0.36470588235294116, 0.4196078431372549, 0.4235294117647059, 0.7137254901960784, 0.7294117647058823, 0.11764705882352941, 0.7647058823529411, 0.054901960784313725, 0.1803921568627451, 0.7764705882352941, 0.803921568627451, 0.8117647058823529, 0.8823529411764706, 0.8666666666666667, 0.9450980392156862, 0.9803921568627451}\n"
     ]
    }
   ],
   "source": [
    "print(set(x_train_norm[0]))"
   ]
  },
  {
   "cell_type": "markdown",
   "id": "3ec1a490",
   "metadata": {},
   "source": [
    "# the model "
   ]
  },
  {
   "cell_type": "code",
   "execution_count": 27,
   "id": "4bc38945",
   "metadata": {},
   "outputs": [],
   "source": [
    "from tensorflow.keras.models import Sequential\n",
    "from tensorflow.keras.layers import Dense\n",
    "from tensorflow.keras.layers import Dropout\n",
    "from tensorflow.keras.optimizers import Adam\n",
    "\n",
    "optimizer = Adam(learning_rate=0.001, beta_1 = 0.9, beta_2 = 0.999, epsilon = 1e-07, amsgrad = False)\n",
    "model = Sequential([\n",
    "    Dense(250, activation = 'relu', input_shape = (784,)),\n",
    "    Dense(500, activation = 'relu'),\n",
    "    Dropout(0.1),\n",
    "    Dense(500, activation = 'relu'),\n",
    "    Dropout(0.1),\n",
    "    Dense(250, activation = 'relu'),\n",
    "    Dropout(0.1),\n",
    "    Dense(10, activation = 'softmax')\n",
    "])"
   ]
  },
  {
   "cell_type": "code",
   "execution_count": 28,
   "id": "575057b7",
   "metadata": {},
   "outputs": [
    {
     "name": "stdout",
     "output_type": "stream",
     "text": [
      "Model: \"sequential_2\"\n",
      "_________________________________________________________________\n",
      "Layer (type)                 Output Shape              Param #   \n",
      "=================================================================\n",
      "dense_10 (Dense)             (None, 250)               196250    \n",
      "_________________________________________________________________\n",
      "dense_11 (Dense)             (None, 500)               125500    \n",
      "_________________________________________________________________\n",
      "dropout_3 (Dropout)          (None, 500)               0         \n",
      "_________________________________________________________________\n",
      "dense_12 (Dense)             (None, 500)               250500    \n",
      "_________________________________________________________________\n",
      "dropout_4 (Dropout)          (None, 500)               0         \n",
      "_________________________________________________________________\n",
      "dense_13 (Dense)             (None, 250)               125250    \n",
      "_________________________________________________________________\n",
      "dropout_5 (Dropout)          (None, 250)               0         \n",
      "_________________________________________________________________\n",
      "dense_14 (Dense)             (None, 10)                2510      \n",
      "=================================================================\n",
      "Total params: 700,010\n",
      "Trainable params: 700,010\n",
      "Non-trainable params: 0\n",
      "_________________________________________________________________\n"
     ]
    }
   ],
   "source": [
    "model.compile(\n",
    "    optimizer = 'adam',\n",
    "    loss = 'mse',\n",
    "    metrics = ['accuracy']\n",
    ")\n",
    "\n",
    "model.summary()"
   ]
  },
  {
   "cell_type": "code",
   "execution_count": 30,
   "id": "a40e80ed",
   "metadata": {},
   "outputs": [
    {
     "name": "stdout",
     "output_type": "stream",
     "text": [
      "Epoch 1/7\n",
      "1875/1875 [==============================] - 9s 5ms/step - loss: 0.0042 - accuracy: 0.9745\n",
      "Epoch 2/7\n",
      "1875/1875 [==============================] - 8s 4ms/step - loss: 0.0036 - accuracy: 0.9782\n",
      "Epoch 3/7\n",
      "1875/1875 [==============================] - 8s 4ms/step - loss: 0.0036 - accuracy: 0.9786\n",
      "Epoch 4/7\n",
      "1875/1875 [==============================] - 9s 5ms/step - loss: 0.0033 - accuracy: 0.9804\n",
      "Epoch 5/7\n",
      "1875/1875 [==============================] - 8s 4ms/step - loss: 0.0032 - accuracy: 0.9808\n",
      "Epoch 6/7\n",
      "1875/1875 [==============================] - 8s 4ms/step - loss: 0.0029 - accuracy: 0.9831\n",
      "Epoch 7/7\n",
      "1875/1875 [==============================] - 8s 5ms/step - loss: 0.0031 - accuracy: 0.9820\n"
     ]
    }
   ],
   "source": [
    "h = model.fit(\n",
    "    x_train_norm,\n",
    "    y_train_encoded,\n",
    "    epochs = 7\n",
    ")"
   ]
  },
  {
   "cell_type": "code",
   "execution_count": 31,
   "id": "7381f705",
   "metadata": {},
   "outputs": [
    {
     "name": "stdout",
     "output_type": "stream",
     "text": [
      "313/313 [==============================] - 1s 2ms/step - loss: 0.0044 - accuracy: 0.9744\n",
      "test set accuracy:  97.4399983882904\n"
     ]
    }
   ],
   "source": [
    "loss, accuracy = model.evaluate(x_test_norm, y_test_encoded)\n",
    "\n",
    "print('test set accuracy: ', accuracy * 100)"
   ]
  },
  {
   "cell_type": "code",
   "execution_count": 32,
   "id": "638015f1",
   "metadata": {},
   "outputs": [
    {
     "name": "stdout",
     "output_type": "stream",
     "text": [
      "shape of preds:  (10000, 10)\n"
     ]
    }
   ],
   "source": [
    "preds = model.predict(x_test_norm)\n",
    "print('shape of preds: ', preds.shape)"
   ]
  },
  {
   "cell_type": "code",
   "execution_count": 34,
   "id": "c4ccaa7e",
   "metadata": {},
   "outputs": [
    {
     "data": {
      "image/png": "[encoded data removed]",
      "text/plain": [
       "<Figure size 864x864 with 9 Axes>"
      ]
     },
     "metadata": {},
     "output_type": "display_data"
    }
   ],
   "source": [
    "plt.figure(figsize = (12, 12))\n",
    "\n",
    "start_index = 0\n",
    "\n",
    "for i in range(9):\n",
    "    plt.subplot(3, 3, i + 1)\n",
    "    plt.grid(False)\n",
    "    plt.xticks([])\n",
    "    plt.yticks([])\n",
    "    pred = np.argmax(preds[start_index + i])\n",
    "    actual = np.argmax(y_test_encoded[start_index + i])\n",
    "    col = 'g'\n",
    "    if pred != actual:\n",
    "        col = 'r'\n",
    "    plt.xlabel('i={} | pred={} | true={}'.format(start_index + i, pred, actual), color = col)\n",
    "    plt.imshow(X_test[start_index + i], cmap='binary')\n",
    "plt.show()"
   ]
  },
  {
   "cell_type": "code",
   "execution_count": null,
   "id": "57e35b62",
   "metadata": {},
   "outputs": [],
   "source": []
  }
 ],
 "metadata": {
  "kernelspec": {
   "display_name": "Python 3",
   "language": "python",
   "name": "python3"
  },
  "language_info": {
   "codemirror_mode": {
    "name": "ipython",
    "version": 3
   },
   "file_extension": ".py",
   "mimetype": "text/x-python",
   "name": "python",
   "nbconvert_exporter": "python",
   "pygments_lexer": "ipython3",
   "version": "3.8.8"
  }
 },
 "nbformat": 4,
 "nbformat_minor": 5
}
